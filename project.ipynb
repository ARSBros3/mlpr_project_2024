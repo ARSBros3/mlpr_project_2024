{
 "cells": [
  {
   "cell_type": "code",
   "execution_count": null,
   "metadata": {},
   "outputs": [],
   "source": [
    "import pandas as pd\n",
    "import numpy as np\n",
    "import re\n",
    "import gensim\n",
    "from gensim.models import Word2Vec\n",
    "import matplotlib.pyplot as plt\n",
    "from wordcloud import WordCloud\n",
    "from sklearn.model_selection import train_test_split\n",
    "from nltk.corpus import stopwords\n",
    "import nltk\n",
    "from nltk.corpus import brown\n",
    "import keras\n",
    "from sklearn.feature_extraction.text import CountVectorizer\n",
    "import seaborn as sns"
   ]
  },
  {
   "cell_type": "code",
   "execution_count": null,
   "metadata": {},
   "outputs": [],
   "source": [
    "corpus = brown.sents() #corpus for word2vec model, captures sentence level relations"
   ]
  },
  {
   "cell_type": "code",
   "execution_count": null,
   "metadata": {},
   "outputs": [],
   "source": [
    "data = pd.read_csv(\"Projdataset.csv\")\n",
    "data.dropna(inplace=True)\n",
    "\n",
    "stop_words = set(stopwords.words('english'))"
   ]
  },
  {
   "cell_type": "code",
   "execution_count": null,
   "metadata": {},
   "outputs": [],
   "source": [
    "#processing data so that the tags are now a list of tags, ready for further preprocessing\n",
    "data['Text_Tag'] = data['Text_Tag'].str.replace('_', ' ')\n",
    "data['Text_Tag'] = data['Text_Tag'].str.split(',')\n",
    "\n",
    "def preprocess_labels(label): #since this is multi-class classification, we need to one-hot encode the labels.\n",
    "    result = np.array([0, 0, 0, 0, 0])\n",
    "    result[label-1] = 1\n",
    "    return result.T #transpose to get a row vector- needed that way for the ml model\n",
    "\n",
    "data['Labels'] = data['Labels'].apply(preprocess_labels)\n",
    "\n",
    "def tokenize_and_stem(text):\n",
    "    text = re.sub(r'[^\\w\\s]', '', text)   #remove non-alphanumeric characters\n",
    "    text = text.lower() #lowercase\n",
    "    tokens = nltk.word_tokenize(text)\n",
    "    tokens = [token for token in tokens if token not in stop_words] #tokenise and remove stopwords\n",
    "    lemmatizer = nltk.stem.WordNetLemmatizer()\n",
    "    tokens = [lemmatizer.lemmatize(token) for token in tokens] #lemmatise\n",
    "    return tokens\n",
    "\n",
    "data['Text_tokens'] = data['Text'].apply(tokenize_and_stem) #apply tokenisation and stemming\n",
    "data['Text_Tag_tokens'] = data['Text_Tag'].apply(lambda tags: [tokenize_and_stem(tag) for tag in tags])"
   ]
  },
  {
   "cell_type": "code",
   "execution_count": null,
   "metadata": {},
   "outputs": [],
   "source": [
    "words_text = \" \".join([word for word_list in data[\"Text_tokens\"] for word in word_list]) #word cloud for text\n",
    "word_cloud_text = WordCloud(width=1200, height=600).generate(words_text)\n",
    "plt.figure(figsize=(20, 10))\n",
    "plt.imshow(word_cloud_text)\n",
    "plt.title(\"Words - Text\")\n",
    "plt.axis(\"off\")\n",
    "plt.show()"
   ]
  },
  {
   "cell_type": "code",
   "execution_count": null,
   "metadata": {},
   "outputs": [],
   "source": [
    "words_tags = \" \".join([tag for tag_list in data[\"Text_Tag_tokens\"] for each_tag in tag_list for tag in each_tag]) #word cloud for tags\n",
    "word_cloud_tags = WordCloud(width=1200, height=600).generate(words_tags)\n",
    "plt.figure(figsize=(20, 10))\n",
    "plt.imshow(word_cloud_tags)\n",
    "plt.title(\"Words - Text_Tag\")\n",
    "plt.axis(\"off\")\n",
    "plt.show()"
   ]
  },
  {
   "cell_type": "code",
   "execution_count": null,
   "metadata": {},
   "outputs": [],
   "source": [
    "#graph to show the most common words\n",
    "vectorizer = CountVectorizer(tokenizer=lambda x: x, preprocessor=lambda x: x)\n",
    "X = vectorizer.fit_transform(data['Text_tokens'])\n",
    "\n",
    "word_freq = pd.DataFrame(X.toarray(), columns=vectorizer.get_feature_names_out())\n",
    "\n",
    "word_freq_sum = word_freq.sum(axis=0).sort_values(ascending=False)[:20]\n",
    "plt.figure(figsize=(10, 6))\n",
    "sns.barplot(x=word_freq_sum.values, y=word_freq_sum.index, palette='inferno')\n",
    "plt.title('Top 20 Most Frequent Words (Excluding Stopwords)')\n",
    "plt.xlabel('Frequency')\n",
    "plt.ylabel('Word')\n",
    "plt.show()"
   ]
  },
  {
   "cell_type": "code",
   "execution_count": null,
   "metadata": {},
   "outputs": [],
   "source": [
    "text_token_lengths = data['Text_tokens'].apply(len) #graph to show distribution of token lengths\n",
    "plt.figure(figsize=(10, 6))\n",
    "sns.scatterplot(text_token_lengths.value_counts())\n",
    "plt.title('Distribution of Text Token Lengths')\n",
    "plt.xlabel('Token Length')\n",
    "plt.ylabel('Frequency')\n",
    "plt.show()"
   ]
  },
  {
   "cell_type": "code",
   "execution_count": null,
   "metadata": {},
   "outputs": [],
   "source": [
    "x_train, x_test, y_train, y_test = train_test_split(data['Text_tokens'], data['Labels']) #train test split"
   ]
  },
  {
   "cell_type": "code",
   "execution_count": null,
   "metadata": {},
   "outputs": [],
   "source": [
    "vec_size = 100 #we will embed words into a 100-dimensional vector space.\n",
    "\n",
    "embedding_model = Word2Vec(sentences=corpus, vector_size=vec_size, window=5, min_count=1, workers=4)\n",
    "embedding_model.build_vocab(x_train, update=True)\n",
    "\n",
    "max_length = text_token_lengths.value_counts().index.max() + 1 #pad sentences till this length.\n",
    "padding = np.zeros((1,vec_size)) #the vector to pad sentences with."
   ]
  },
  {
   "cell_type": "code",
   "execution_count": null,
   "metadata": {},
   "outputs": [],
   "source": [
    "#the algorithm to embed and pad sentences.\n",
    "def embed_and_pad_words(text_tokens, embedding_model):\n",
    "    embedded_sentences = np.empty((1,0,0))\n",
    "    for sentence in text_tokens:\n",
    "        embedded_words = np.empty((1,0))\n",
    "        for word in sentence:\n",
    "            if word in embedding_model.wv:\n",
    "                embedded_words = np.append(embedded_words, np.column_stack(embedding_model.wv[word]), axis=1) # embed the word using the embedding model, stack vertically\n",
    "            else:\n",
    "                embedded_words = np.append(embedded_words, np.zeros((1,vec_size)), axis=1) # if the word is not in the embedding model, use zero vector\n",
    "        for i in range(max_length - len(embedded_words)+1):\n",
    "            embedded_words = np.concatenate((embedded_words, padding), axis=1) # pad the words with zero vectors vertically\n",
    "        embedded_sentences = np.append(embedded_sentences, embedded_words, axis=2) # stack the padded words as column vectors on 3rd axis\n",
    "    return embedded_sentences"
   ]
  },
  {
   "cell_type": "code",
   "execution_count": null,
   "metadata": {},
   "outputs": [],
   "source": [
    "x_train = embed_and_pad_words(x_train, embedding_model) #embedding and padding the sentences. expect these to take as much time as an actual ml model training bruh\n",
    "print(max_length)\n",
    "print(\"Train set shape:\", x_train.shape, y_train.shape)\n",
    "\n",
    "x_test = embed_and_pad_words(x_test, embedding_model)\n",
    "print(\"Test shape:\", x_test.shape, y_test.shape)"
   ]
  },
  {
   "cell_type": "code",
   "execution_count": null,
   "metadata": {},
   "outputs": [],
   "source": [
    "#the ml model needs input and output to be a list.\n",
    "y_train = np.array(y_train).T\n",
    "y_test = np.array(y_test).T"
   ]
  },
  {
   "cell_type": "code",
   "execution_count": null,
   "metadata": {},
   "outputs": [],
   "source": [
    "#here begins the model!\n",
    "model = keras.Sequential() #this will be a sequential model.\n",
    "model.add(keras.layers.Input(shape=x_train[0].shape)) #input layer- shape equal to the shape of matrix containing a sentence."
   ]
  }
 ],
 "metadata": {
  "language_info": {
   "name": "python"
  }
 },
 "nbformat": 4,
 "nbformat_minor": 2
}
